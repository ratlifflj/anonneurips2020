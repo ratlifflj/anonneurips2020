{
 "cells": [
  {
   "cell_type": "code",
   "execution_count": 8,
   "metadata": {},
   "outputs": [],
   "source": [
    "import pandas as pd\n",
    "import numpy as np\n",
    "import matplotlib\n",
    "from matplotlib import pyplot as plt\n",
    "import matplotlib.animation as animation\n",
    "from scipy.integrate import odeint, solve_ivp\n",
    "from scipy.stats import entropy\n",
    "import plotly.graph_objects as go\n",
    "from plotly.subplots import make_subplots\n",
    "from pathlib import Path\n",
    "%matplotlib inline\n",
    "import numpy\n",
    "import scipy, scipy.integrate, scipy.optimize\n",
    "import matplotlib"
   ]
  },
  {
   "cell_type": "code",
   "execution_count": 14,
   "metadata": {},
   "outputs": [],
   "source": [
    "import os\n",
    "\n",
    "if not os.path.exists(\"images\"):\n",
    "    os.mkdir(\"images\")"
   ]
  },
  {
   "cell_type": "markdown",
   "metadata": {},
   "source": [
    "## Poincare Recurrence in time-evolving RPS\n",
    "Main function to simulate 3-strategy RPS with doubly evolving matrices. Uses odeint to integrate the differential equations and returns a dictionary that contains all necessary data."
   ]
  },
  {
   "cell_type": "code",
   "execution_count": 9,
   "metadata": {},
   "outputs": [],
   "source": [
    "P = np.matrix([ [0, -1, 1],\n",
    "                [1, 0, -1],\n",
    "                [-1, 1, 0] ])"
   ]
  },
  {
   "cell_type": "code",
   "execution_count": 10,
   "metadata": {},
   "outputs": [],
   "source": [
    "\n",
    "\n",
    "def RPSderiv(s,t,P,mu):\n",
    "    \"\"\" Defines the ODE for time evolving RPS. \n",
    "    \n",
    "    Parameters:\n",
    "    s (array): Array-like of initial conditions [y1, y2, y3, w1, w2, w3]\n",
    "    t (int): Time to integrate function over\n",
    "    P (matrix): Standard RPS payoff matrix\n",
    "    mu (float): Parameter for time evolving system\n",
    "    \n",
    "    Returns:\n",
    "    array: concatenated derivatives of x and w\n",
    "    \"\"\"\n",
    "    x = np.array([[s[0]], [s[1]], [s[2]]])\n",
    "    w = np.array([[s[3]], [s[4]], [s[5]]])\n",
    "\n",
    "    A = np.matrix([ [0, (x[1][0]-x[0][0]), (x[2][0]-x[0][0])],\n",
    "                    [(x[0][0]-x[1][0]), 0, (x[2][0]-x[1][0])],\n",
    "                    [(x[0][0]-x[2][0]), (x[1][0]-x[2][0]), 0] ])\n",
    "    B = np.matrix([ [0, (w[0][0]-w[1][0]), (w[0][0]-w[2][0])],\n",
    "                     [(w[1][0]-w[0][0]), 0, (w[1][0]-w[2][0])],\n",
    "                     [(w[2][0]-w[0][0]), (w[2][0]-w[1][0]), 0] ])\n",
    "    Pw = P + mu*B\n",
    "    dxdt = np.multiply(x, np.matmul(Pw, x)-x.T@Pw@x).flatten().tolist()[0]\n",
    "    dwdt = np.multiply(w, A@w - w.T@A@w).flatten().tolist()[0]\n",
    "    \n",
    "    return np.array(dxdt+dwdt)\n",
    "\n",
    "def RPSTrajectory(f=RPSderiv, s=[0.1, 0.3, 0.6, 0.1, 0.3, 0.6],\n",
    "    timestep=0.1, numstep=2000, mu=0.1, P=P) :\n",
    "    \"\"\" Runs ODEint for the RPS system\n",
    "    \n",
    "    Parameters:\n",
    "    s (array): Array-like of initial conditions [x1, x2, x3, w1, w2, w3]\n",
    "    timestep (float): Timestep of each iteration of the integration\n",
    "    numstep (int): Number of iterations to be performed\n",
    "    P (matrix): Standard RPS payoff matrix\n",
    "    mu (float): Parameter for time evolving system\n",
    "    \n",
    "    Returns: \n",
    "    dict: Keys are (times, x1, x2, x3, w1, w2, w3)\n",
    "    The values associated with the keys are time series.\n",
    "    \"\"\"\n",
    "    partuple=(P, mu)        # Converts parameters to a tuple in the right order\n",
    "    tvals=numpy.arange(numstep)*timestep\n",
    "    traj=scipy.integrate.odeint(f,s,tvals,partuple)\n",
    "    # Store the results of odeint in a dictionary\n",
    "    data={}\n",
    "    data[\"times\"]=tvals\n",
    "    data[\"y1\"]=traj[:,0]\n",
    "    data[\"y2\"]=traj[:,1]\n",
    "    data[\"y3\"]=traj[:,2]\n",
    "    data[\"w1\"]=traj[:,3]\n",
    "    data[\"w2\"]=traj[:,4]\n",
    "    data[\"w3\"]=traj[:,5]\n",
    "    return data"
   ]
  },
  {
   "cell_type": "markdown",
   "metadata": {},
   "source": [
    "Run the function to get data for plotting"
   ]
  },
  {
   "cell_type": "code",
   "execution_count": 11,
   "metadata": {},
   "outputs": [],
   "source": [
    "s1=[0.1, 0.2, 0.7, 0.7, 0.2, 0.1]\n",
    "data = RPSTrajectory(s=s1, f=RPSderiv, numstep=10000)"
   ]
  },
  {
   "cell_type": "markdown",
   "metadata": {},
   "source": [
    "### Plot phase portraits"
   ]
  },
  {
   "cell_type": "code",
   "execution_count": 15,
   "metadata": {},
   "outputs": [],
   "source": [
    "import plotly.graph_objects as go\n",
    "import pandas as pd\n",
    "import numpy as np\n",
    "\n",
    "x = data['y1']\n",
    "y = data['y2']\n",
    "z = data['y3']\n",
    "\n",
    "fig = go.Figure(data=go.Scatter3d(x=x, y=y, z=z, marker=dict(size=2,color=z,colorscale='viridis',),\n",
    "                                  line=dict(color='darkblue',width=1), showlegend=False))\n",
    "\n",
    "p1=[1, 0, 0, 1]\n",
    "p2=[0, 1, 0, 0]\n",
    "p3=[0, 0, 1, 0]\n",
    "\n",
    "fig.add_trace(go.Scatter3d(x=p1, y=p2, z=p3, marker=dict(size=2, color='black',),\n",
    "                           line=dict(color='black', width=2),showlegend=False))\n",
    "\n",
    "fig.write_image(\"images/yplayersimplex.png\")"
   ]
  },
  {
   "cell_type": "code",
   "execution_count": 16,
   "metadata": {},
   "outputs": [],
   "source": [
    "x2 = data['w1']\n",
    "y2 = data['w2']\n",
    "z2 = data['w3']\n",
    "\n",
    "\n",
    "fig1 = go.Figure(data=go.Scatter3d(x=x2, y=y2, z=z2, marker=dict(size=2, color=z, colorscale='agsunset',),\n",
    "                                   line=dict(color='darkblue',width=1), showlegend=False))\n",
    "\n",
    "p1=[1, 0, 0, 1]\n",
    "p2=[0, 1, 0, 0]\n",
    "p3=[0, 0, 1, 0]\n",
    "\n",
    "fig1.add_trace(go.Scatter3d(x=p1, y=p2, z=p3, marker=dict(size=2,color='black',),\n",
    "                            line=dict(color='black',width=2),showlegend=False))\n",
    "\n",
    "fig.write_image(\"images/wplayersimplex.png\")"
   ]
  },
  {
   "cell_type": "code",
   "execution_count": null,
   "metadata": {},
   "outputs": [],
   "source": []
  }
 ],
 "metadata": {
  "kernelspec": {
   "display_name": "Python 3",
   "language": "python",
   "name": "python3"
  },
  "language_info": {
   "codemirror_mode": {
    "name": "ipython",
    "version": 3
   },
   "file_extension": ".py",
   "mimetype": "text/x-python",
   "name": "python",
   "nbconvert_exporter": "python",
   "pygments_lexer": "ipython3",
   "version": "3.7.6"
  }
 },
 "nbformat": 4,
 "nbformat_minor": 4
}
